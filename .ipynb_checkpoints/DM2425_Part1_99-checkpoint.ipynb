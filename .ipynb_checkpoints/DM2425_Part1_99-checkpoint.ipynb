{
 "cells": [
  {
   "cell_type": "markdown",
   "id": "0385e5d7",
   "metadata": {},
   "source": [
    "<img src=\"https://encrypted-tbn0.gstatic.com/images?q=tbn:ANd9GcTaJWG7PzF3toxaRMB1-JicpqMgJuEXATd0fg&\" style=\"width: 180px;margin-top:50px;margin-bottom:50px;\" align=\"left\">\n",
    "   <div style= \"font-size: 28px;font-weight:bold;margin-top:20px;margin-bottom:20px;margin-left:360px;margin-right:140px; line-height: 1.1;color:#6f800f;\"><center>Data Mining Project | ABCDEats Inc.</center></div>\n",
    "   <div style= \"font-size: 17px;font-weight:bold;\"><center>Fall Semester | 2024 - 2025</center></div>\n",
    "   <div><center><b>Master in Data Science and Advanced Analytics</b> </center></div>\n",
    " <br>\n",
    "    <div><center>André Silvestre, 20240502 </center></div>\n",
    "    <div><center>YYY, XXX </center></div>\n",
    "    <div><center>YYY, XXX </center></div>\n",
    "    <div><center>Umeima Mahomed, XXX </center></div>\n",
    "    <br>\n",
    "    <div><center><b>Group XX</b></center></div>\n",
    " <br>"
   ]
  },
  {
   "cell_type": "code",
   "execution_count": null,
   "id": "a1be83a9",
   "metadata": {},
   "outputs": [],
   "source": []
  }
 ],
 "metadata": {
  "kernelspec": {
   "display_name": "Python 3 (ipykernel)",
   "language": "python",
   "name": "python3"
  },
  "language_info": {
   "codemirror_mode": {
    "name": "ipython",
    "version": 3
   },
   "file_extension": ".py",
   "mimetype": "text/x-python",
   "name": "python",
   "nbconvert_exporter": "python",
   "pygments_lexer": "ipython3",
   "version": "3.11.9"
  }
 },
 "nbformat": 4,
 "nbformat_minor": 5
}
