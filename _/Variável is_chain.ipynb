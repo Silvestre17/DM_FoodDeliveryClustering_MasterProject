{
 "cells": [
  {
   "cell_type": "markdown",
   "id": "9fa3d154",
   "metadata": {},
   "source": [
    "3. O output representa o percentual de pedidos feitos em restaurantes \"chains\" (redes de restaurantes) em cada hora do dia. Aqui está como interpretar os números:\n",
    "\n",
    "HR_X: Cada linha corresponde a uma hora do dia. Por exemplo, HR_0 é meia-noite, HR_1 é 1 da manhã, e assim por diante até HR_23, que é 11 da noite.\n",
    "\n",
    "Percentual: O valor ao lado de cada hora representa a porcentagem de todos os pedidos feitos naquela hora que foram em restaurantes chains.\n",
    "\n",
    "Principais interpretações:\n",
    "NaN para HR_0: Significa que não há dados ou pedidos feitos em chains à meia-noite (HR_0). Isso pode ser porque não houve pedidos a essa hora ou porque o cálculo não retornou um valor válido.\n",
    "\n",
    "Picos de pedidos em chains: As horas com os maiores percentuais de pedidos feitos em chains são:\n",
    "\n",
    "HR_19 (7 da noite): 76.16%\n",
    "HR_20 (8 da noite): 79.11%\n",
    "HR_21 (9 da noite): 76.21%\n",
    "Isso sugere que, entre 7 e 9 da noite, uma grande parte dos pedidos é feita em redes de restaurantes.\n",
    "\n",
    "Menores percentuais: As horas mais baixas (com exceção de HR_0, que tem NaN) estão nas primeiras horas da manhã:\n",
    "\n",
    "HR_3 (3 da manhã): 52.57%\n",
    "HR_4 (4 da manhã): 53.48%\n",
    "Ou seja, nas primeiras horas da manhã, menos pedidos são feitos em chains em comparação com o horário de jantar.\n",
    "\n",
    "Conclusão geral:\n",
    "Durante o horário de pico das refeições (principalmente o jantar), uma maior porcentagem de pedidos é feita em redes de restaurantes. Já durante as primeiras horas da manhã, embora ainda haja uma presença significativa de pedidos em chains, ela é relativamente menor."
   ]
  },
  {
   "cell_type": "markdown",
   "id": "c677c973",
   "metadata": {},
   "source": [
    "6. Análise de clientes extremos\n",
    "Identifique os top 10 clientes com o maior número de pedidos em \"chains\" e veja se há um comportamento específico para esses clientes. Esses insights podem ser úteis para segmentar os clientes heavy-users de redes.\n",
    "\n",
    "7. Razão de pedidos em chains versus independentes\n",
    "Se houver outra variável que indique o número de pedidos feitos em restaurantes independentes, você poderia calcular a proporção entre pedidos em \"chains\" e independentes para cada cliente. Isso pode fornecer uma visão mais rica sobre a preferência de redes versus restaurantes locais.\n",
    "Análise por Região (customer_region)\n",
    "Análise por Idade (customer_age)\n",
    "\n",
    "A variável is_chain pode ser explorada de diversas maneiras, principalmente para entender como os clientes interagem com restaurantes de redes (chains) em comparação com restaurantes independentes. Aqui estão algumas análises adicionais que podem ser feitas para aprofundar as informações já obtidas:\n",
    "\n",
    "8. Comportamento de Compra ao Longo do Tempo (acho que não é possível)\n",
    "Evolução dos Pedidos em Chains ao Longo dos Meses: Analisar se há uma tendência crescente ou decrescente de pedidos em chains ao longo dos três meses. Isso pode revelar mudanças sazonais ou de comportamento.\n",
    "Intervalo entre Pedidos e Chains: Analisar o intervalo entre pedidos sucessivos de clientes que preferem chains em comparação com aqueles que preferem não-chains.\n",
    "\n",
    "3. Análise de Preferência por Tipo de Culinária\n",
    "Já vimos o gasto médio em diferentes tipos de culinária, mas podemos segmentar mais profundamente:\n",
    "Comparar o número total de pedidos de cada tipo de culinária (e não apenas o gasto) entre chains e não-chains.\n",
    "Analisar categorias específicas: Por exemplo, você mencionou um comportamento interessante em CUI_Chicken Dishes. Pode ser útil verificar a frequência com que pedidos de chicken dishes são feitos em chains, já que isso pode sugerir a dominância desse tipo de prato em redes de fast food.\n",
    "\n",
    "4. Análise por Dia e Hora (Padrões Temporais)\n",
    "Distribuição dos Pedidos por Dia da Semana: Verificar como a escolha por chains versus não-chains varia ao longo dos dias da semana. Já temos correlações, mas uma análise visual ou categórica (como percentuais de pedidos por dia) pode mostrar padrões mais claros.\n",
    "Padrões Diários Específicos: Já vimos que as horas de jantar têm uma alta prevalência de pedidos em chains. Uma análise mais detalhada pode incluir a criação de categorias temporais, como “almoço”, “jantar”, e “madrugada”, para ver quais horários do dia mais influenciam a preferência por redes.\n",
    "\n",
    "5. Análise de Promoções\n",
    "Uso de Promoções e Preferência por Chains: Analisar se os clientes que utilizam promoções são mais propensos a fazer pedidos em chains. A variável last_promo pode ser cruzada com is_chain para verificar se redes de restaurantes são mais agressivas em oferecer descontos.\n",
    "Promoção por Categoria de Produto: Identificar se as promoções são mais comuns em certos tipos de culinária e se isso afeta a escolha por chains.\n",
    "\n",
    "6. Fidelidade e Frequência de Pedidos\n",
    "Clientes que preferem Chains versus Frequência de Pedidos: Verificar se clientes que preferem chains fazem pedidos com mais frequência ou se os clientes que preferem não-chains têm uma frequência mais alta de pedidos.\n",
    "Clientes Fieis a Chains Específicas: Se houver dados adicionais sobre os fornecedores, pode-se explorar se certos clientes pedem repetidamente de uma mesma chain, indicando um comportamento de fidelidade.\n",
    "\n",
    "7. Análise por Método de Pagamento\n",
    "Método de Pagamento e Chains: Explorar se os clientes que preferem chains tendem a usar certos métodos de pagamento mais frequentemente do que outros. Isso pode ajudar a identificar tendências em como os consumidores preferem pagar em restaurantes de rede (por exemplo, maior uso de aplicativos ou cartões de crédito).\n",
    "\n",
    "8. Comparação com Variáveis Financeiras\n",
    "Gasto Total: Comparar o gasto total de clientes que preferem chains com os que preferem não-chains. Isso pode ajudar a determinar se os clientes de redes gastam mais ou menos, em média.\n",
    "Valor Médio por Pedido em Chains versus Não-Chains: Calcular o valor médio gasto por pedido em restaurantes chains e não-chains para ver se há uma diferença significativa.\n",
    "Essas análises adicionais podem fornecer insights mais profundos sobre os hábitos dos clientes em relação a redes de restaurantes e como esses comportamentos são influenciados por outros fatores (como horário, tipo de culinária, promoções, etc.)."
   ]
  },
  {
   "cell_type": "markdown",
   "id": "a040810a",
   "metadata": {},
   "source": [
    "## last_promo"
   ]
  },
  {
   "cell_type": "code",
   "execution_count": null,
   "id": "6711c549",
   "metadata": {},
   "outputs": [],
   "source": []
  },
  {
   "cell_type": "code",
   "execution_count": null,
   "id": "762f69e4",
   "metadata": {},
   "outputs": [],
   "source": [
    "#1.\n",
    "#Unique values e freq absoluta\n",
    "unique_values = df['first_order'].value_counts()\n",
    "print(\"Frequências absolutas:\")\n",
    "print(unique_values)\n",
    "\n",
    "#moda\n",
    "moda_value = df['first_order'].mode()[0]\n",
    "print(f\"Moda: {moda_value}\")\n",
    "\n",
    "#var e std\n",
    "variancia = df['first_order'].var()\n",
    "desvio_padrao = df['first_order'].std()\n",
    "print(f\"Variância: {variancia}\")\n",
    "print(f\"Desvio padrão: {desvio_padrao}\")\n",
    "\n",
    "#assimetria e Curtose\n",
    "assimetria = df['first_order'].skew()\n",
    "curtose = df['first_order'].kurt()\n",
    "print(f\"Assimetria: {assimetria}\")\n",
    "print(f\"Curtose: {curtose}\")\n",
    "\n",
    "# Freq relativa\n",
    "relative_values = df['first_order'].value_counts(normalize=True)\n",
    "print(\"\\nFrequências relativas (%):\")\n",
    "print(relative_values * 100)\n",
    "\n",
    "#Haverá outliers?\n",
    "print(\"\\nResumo estatístico da variável 'first_order':\")\n",
    "print(df['first_order'].describe())\n",
    "\n",
    "#Média e mediana\n",
    "mean_value = df['first_order'].mean()\n",
    "median_value = df['first_order'].median()\n",
    "print(f\"\\nMédia: {mean_value}\")\n",
    "print(f\"Mediana: {median_value}\")"
   ]
  },
  {
   "cell_type": "code",
   "execution_count": null,
   "id": "e74ad8b6",
   "metadata": {},
   "outputs": [],
   "source": [
    "\n"
   ]
  }
 ],
 "metadata": {
  "kernelspec": {
   "display_name": "Python 3 (ipykernel)",
   "language": "python",
   "name": "python3"
  },
  "language_info": {
   "codemirror_mode": {
    "name": "ipython",
    "version": 3
   },
   "file_extension": ".py",
   "mimetype": "text/x-python",
   "name": "python",
   "nbconvert_exporter": "python",
   "pygments_lexer": "ipython3",
   "version": "3.11.9"
  }
 },
 "nbformat": 4,
 "nbformat_minor": 5
}
