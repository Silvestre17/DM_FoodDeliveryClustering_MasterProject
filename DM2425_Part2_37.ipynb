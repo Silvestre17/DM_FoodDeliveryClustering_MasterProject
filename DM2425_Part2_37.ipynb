{
 "cells": [
  {
   "metadata": {},
   "cell_type": "markdown",
   "source": [
    "<div style=\"display: flex; align-items: center; justify-content: center; flex-wrap: wrap;\">\n",
    "    <div style=\"flex: 1; min-width: 250px; display: flex; justify-content: center;\">\n",
    "        <img src=\"https://adnova.novaims.unl.pt/media/22ui3ptm/logo.svg\" style=\"max-width: 80%; height: auto; margin-top: 50px; margin-bottom: 50px;margin-left: 3rem;\">\n",
    "    </div>\n",
    "    <div style=\"flex: 2; text-align: center; margin-top: 20px;margin-left: 8rem;\">\n",
    "        <div style=\"font-size: 28px; font-weight: bold; line-height: 1.2;color:#6f800f;\">\n",
    "            Data Mining Project | ABCDEats Inc.\n",
    "        </div>\n",
    "        <div style=\"font-size: 17px; font-weight: bold; margin-top: 10px;\">\n",
    "            Fall Semester | 2024 - 2025\n",
    "        </div>\n",
    "        <div style=\"font-size: 17px; font-weight: bold;\">\n",
    "            Master in Data Science and Advanced Analytics\n",
    "        </div>\n",
    "        <div style=\"margin-top: 20px;\">\n",
    "            <div>André Silvestre, 20240502</div>\n",
    "            <div>Filipa Pereira, 20240509</div>\n",
    "            <div>Umeima Mahomed, 20240543</div>\n",
    "        </div>\n",
    "        <div style=\"margin-top: 20px; font-weight: bold;\">\n",
    "            Group 37\n",
    "        </div>\n",
    "    </div>\n",
    "</div>"
   ],
   "id": "cdec7ce0f5dffaf1"
  },
  {
   "metadata": {},
   "cell_type": "markdown",
   "source": [
    "<div style=\"background: linear-gradient(to right,#6f800f, #6f800f); \n",
    "            padding: .7px; color: white; border-radius: 300px; text-align: center;\">\n",
    "</div>"
   ],
   "id": "b748580141948940"
  },
  {
   "metadata": {},
   "cell_type": "markdown",
   "source": "## 📚 Libraries Import",
   "id": "3c0fbc23dd806177"
  },
  {
   "metadata": {
    "deletable": true,
    "editable": true,
    "frozen": false
   },
   "cell_type": "code",
   "source": [
    "# For data\n",
    "import pandas as pd\n",
    "import numpy as np\n",
    "import os\n",
    "\n",
    "# For plotting and EDA\n",
    "import matplotlib.pyplot as plt\n",
    "import seaborn as sns\n",
    "import matplotlib.ticker as mtick\n",
    "import matplotlib.lines as mlines\n",
    "import missingno as msno\n",
    "\n",
    "# For preprocessing\n",
    "\n",
    "# For statistical tests\n",
    "\n",
    "# For clustering\n",
    "\n",
    "# Set the style of the visualization\n",
    "pd.set_option('display.max_columns', None)                  # display all columns\n",
    "pd.set_option('display.float_format', lambda x: '%.2f' % x) # display floats with 2 decimal places\n",
    "\n",
    "# for better resolution plots\n",
    "%config InlineBackend.figure_format = 'retina' # optionally, you can change 'svg' to 'retina'\n",
    "\n",
    "# Setting seaborn style\n",
    "plt.style.use('ggplot')\n",
    "sns.set_theme(style='white')"
   ],
   "id": "dab144c37194e16a",
   "outputs": [],
   "execution_count": null
  },
  {
   "metadata": {},
   "cell_type": "markdown",
   "source": [
    "# <a class='anchor' id='2'></a>\n",
    "<br>\n",
    "<style>\n",
    "@import url('https://fonts.cdnfonts.com/css/avenir-next-lt-pro?styles=29974');\n",
    "</style>\n",
    "\n",
    "<div style=\"background: linear-gradient(to right,#bEd62f, #6f800f); \n",
    "            padding: 10px; color: white; border-radius: 300px; text-align: center;\">\n",
    "    <center><h1 style=\"margin-left: 140px;margin-top: 10px; margin-bottom: 4px; color: white;\n",
    "                       font-size: 32px; font-family: 'Avenir Next LT Pro', sans-serif;\">\n",
    "        <b>Part 2 | Data Preprocess & Clustering </b></h1></center>\n",
    "</div>"
   ],
   "id": "cd67dd012d4d60ec"
  },
  {
   "metadata": {
    "deletable": true,
    "editable": true,
    "frozen": false
   },
   "cell_type": "code",
   "source": [
    "# Importing the dataset\n",
    "ABCDEats = pd.read_parquet('data/DM2425_ABCDEats_1stPart.parquet')"
   ],
   "id": "5989e709c7705bb5",
   "outputs": [],
   "execution_count": null
  },
  {
   "metadata": {
    "deletable": true,
    "editable": true,
    "frozen": false
   },
   "cell_type": "code",
   "source": [
    "# Display the first 5 rows just to confirm the import was successful\n",
    "ABCDEats.head() "
   ],
   "id": "9ad54d8e912bc2ec",
   "outputs": [],
   "execution_count": null
  },
  {
   "metadata": {
    "deletable": true,
    "editable": true,
    "frozen": false
   },
   "cell_type": "code",
   "source": [
    "# Number of rows and columns\n",
    "print('Number of\\033[1m rows \\033[0m:', ABCDEats.shape[0])\n",
    "print('Number of\\033[1m columns \\033[0m:', ABCDEats.shape[1])"
   ],
   "id": "498a9ffbcf0faefd",
   "outputs": [],
   "execution_count": null
  },
  {
   "metadata": {},
   "cell_type": "code",
   "source": [
    "# Check the data types\n",
    "ABCDEats.dtypes"
   ],
   "id": "b408c184a9e1a8ea",
   "outputs": [],
   "execution_count": null
  },
  {
   "metadata": {},
   "cell_type": "markdown",
   "source": "---",
   "id": "b9dc2a41dd3fc1c1"
  },
  {
   "metadata": {},
   "cell_type": "markdown",
   "source": "## 📊 Data Preprocessing",
   "id": "9209c7183dc03961"
  },
  {
   "metadata": {},
   "cell_type": "code",
   "source": "",
   "id": "1ab8fbd1284fc114",
   "outputs": [],
   "execution_count": null
  },
  {
   "metadata": {},
   "cell_type": "code",
   "source": "",
   "id": "71f283fc5729f1b",
   "outputs": [],
   "execution_count": null
  },
  {
   "metadata": {},
   "cell_type": "code",
   "source": "",
   "id": "8906caad38d5d4ce",
   "outputs": [],
   "execution_count": null
  },
  {
   "metadata": {},
   "cell_type": "code",
   "source": "",
   "id": "7463e250f05c8344",
   "outputs": [],
   "execution_count": null
  },
  {
   "metadata": {},
   "cell_type": "code",
   "source": "",
   "id": "142f6f39cf22a8a9",
   "outputs": [],
   "execution_count": null
  },
  {
   "metadata": {},
   "cell_type": "markdown",
   "source": "---",
   "id": "7ab40ee8723b0e94"
  },
  {
   "metadata": {},
   "cell_type": "markdown",
   "source": "## ⚫🟢⚪ Clustering",
   "id": "44ffe7102fe4b31"
  },
  {
   "metadata": {},
   "cell_type": "code",
   "source": "",
   "id": "f7ed825a8c4ebb64",
   "outputs": [],
   "execution_count": null
  },
  {
   "metadata": {},
   "cell_type": "code",
   "source": "",
   "id": "80548f75183dd577",
   "outputs": [],
   "execution_count": null
  },
  {
   "metadata": {},
   "cell_type": "code",
   "source": "",
   "id": "b68358b5de1513a9",
   "outputs": [],
   "execution_count": null
  },
  {
   "metadata": {},
   "cell_type": "code",
   "source": "",
   "id": "33d76e926f7e3043",
   "outputs": [],
   "execution_count": null
  },
  {
   "metadata": {},
   "cell_type": "markdown",
   "source": "---",
   "id": "303890b57115f0b0"
  }
 ],
 "metadata": {
  "kernelspec": {
   "display_name": "Python 3",
   "language": "python",
   "name": "python3"
  },
  "language_info": {
   "codemirror_mode": {
    "name": "ipython",
    "version": 2
   },
   "file_extension": ".py",
   "mimetype": "text/x-python",
   "name": "python",
   "nbconvert_exporter": "python",
   "pygments_lexer": "ipython2",
   "version": "2.7.6"
  }
 },
 "nbformat": 4,
 "nbformat_minor": 5
}
