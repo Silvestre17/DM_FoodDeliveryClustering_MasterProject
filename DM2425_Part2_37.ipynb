{
 "cells": [
  {
   "cell_type": "markdown",
   "id": "cdec7ce0f5dffaf1",
   "metadata": {},
   "source": [
    "<div style=\"display: flex; align-items: center; justify-content: center; flex-wrap: wrap;\">\n",
    "    <div style=\"flex: 1; min-width: 250px; display: flex; justify-content: center;\">\n",
    "        <img src=\"https://adnova.novaims.unl.pt/media/22ui3ptm/logo.svg\" style=\"max-width: 80%; height: auto; margin-top: 50px; margin-bottom: 50px;margin-left: 3rem;\">\n",
    "    </div>\n",
    "    <div style=\"flex: 2; text-align: center; margin-top: 20px;margin-left: 8rem;\">\n",
    "        <div style=\"font-size: 28px; font-weight: bold; line-height: 1.2;\">\n",
    "            <span style='color:#6f800f'> Data Mining Project | </span>\n",
    "            <span style='color:#393B79'>ABCDEats Inc.</span>\n",
    "        </div>\n",
    "        <div style=\"font-size: 17px; font-weight: bold; margin-top: 10px;\">\n",
    "            Fall Semester | 2024 - 2025\n",
    "        </div>\n",
    "        <div style=\"font-size: 17px; font-weight: bold;\">\n",
    "            Master in Data Science and Advanced Analytics\n",
    "        </div>\n",
    "        <div style=\"margin-top: 20px;\">\n",
    "            <div>André Silvestre, 20240502</div>\n",
    "            <div>Filipa Pereira, 20240509</div>\n",
    "            <div>Umeima Mahomed, 20240543</div>\n",
    "        </div>\n",
    "        <div style=\"margin-top: 20px; font-weight: bold;\">\n",
    "            Group 37\n",
    "        </div>\n",
    "    </div>\n",
    "</div>"
   ]
  },
  {
   "cell_type": "markdown",
   "id": "b748580141948940",
   "metadata": {},
   "source": [
    "<div style=\"background: linear-gradient(to right,#6f800f, #393B79); \n",
    "            padding: .7px; color: white; border-radius: 300px; text-align: center;\">\n",
    "</div>"
   ]
  },
  {
   "cell_type": "markdown",
   "id": "3c0fbc23dd806177",
   "metadata": {},
   "source": [
    "## 📚 Libraries Import"
   ]
  },
  {
   "cell_type": "code",
   "execution_count": null,
   "id": "dab144c37194e16a",
   "metadata": {
    "deletable": true,
    "editable": true,
    "frozen": false
   },
   "outputs": [],
   "source": [
    "# For data\n",
    "import pandas as pd\n",
    "import numpy as np\n",
    "import os\n",
    "\n",
    "# For plotting and EDA\n",
    "import matplotlib.pyplot as plt\n",
    "import seaborn as sns\n",
    "import matplotlib.ticker as mtick\n",
    "import matplotlib.lines as mlines\n",
    "from matplotlib.colors import LinearSegmentedColormap\n",
    "\n",
    "# For preprocessing\n",
    "\n",
    "# For statistical tests\n",
    "\n",
    "# For clustering\n",
    "\n",
    "# Set the style of the visualization\n",
    "pd.set_option('display.max_columns', None)                  # display all columns\n",
    "pd.set_option('display.float_format', lambda x: '%.2f' % x) # display floats with 2 decimal places\n",
    "\n",
    "# for better resolution plots\n",
    "%config InlineBackend.figure_format = 'retina' # optionally, you can change 'svg' to 'retina'\n",
    "\n",
    "# Setting seaborn style\n",
    "plt.style.use('ggplot')\n",
    "sns.set_theme(style='white')"
   ]
  },
  {
   "cell_type": "markdown",
   "id": "cd67dd012d4d60ec",
   "metadata": {},
   "source": [
    "# <a class='anchor' id='2'></a>\n",
    "<br>\n",
    "<style>\n",
    "@import url('https://fonts.cdnfonts.com/css/avenir-next-lt-pro?styles=29974');\n",
    "</style>\n",
    "\n",
    "<div style=\"background: linear-gradient(to right, #6f800f,#393B79); \n",
    "            padding: 10px; color: white; border-radius: 300px; text-align: center;\">\n",
    "    <center><h1 style=\"margin-left: 140px;margin-top: 10px; margin-bottom: 4px; color: white;\n",
    "                       font-size: 32px; font-family: 'Avenir Next LT Pro', sans-serif;\">\n",
    "        <b>Part 2 | Data Preprocess & Clustering </b></h1></center>\n",
    "</div>"
   ]
  },
  {
   "cell_type": "code",
   "execution_count": null,
   "id": "5989e709c7705bb5",
   "metadata": {
    "deletable": true,
    "editable": true,
    "frozen": false
   },
   "outputs": [],
   "source": [
    "# Importing the dataset\n",
    "ABCDEats = pd.read_parquet('data/DM2425_ABCDEats_1stPart.parquet')"
   ]
  },
  {
   "cell_type": "code",
   "execution_count": null,
   "id": "9ad54d8e912bc2ec",
   "metadata": {
    "deletable": true,
    "editable": true,
    "frozen": false
   },
   "outputs": [],
   "source": [
    "# Display the first 5 rows just to confirm the import was successful\n",
    "ABCDEats.head() "
   ]
  },
  {
   "cell_type": "code",
   "execution_count": null,
   "id": "498a9ffbcf0faefd",
   "metadata": {
    "deletable": true,
    "editable": true,
    "frozen": false
   },
   "outputs": [],
   "source": [
    "# Number of rows and columns\n",
    "print('Number of\\033[1m rows \\033[0m:', ABCDEats.shape[0])\n",
    "print('Number of\\033[1m columns \\033[0m:', ABCDEats.shape[1])"
   ]
  },
  {
   "cell_type": "code",
   "execution_count": null,
   "id": "b408c184a9e1a8ea",
   "metadata": {},
   "outputs": [],
   "source": [
    "# Check the data types\n",
    "ABCDEats.dtypes"
   ]
  },
  {
   "cell_type": "markdown",
   "id": "b9dc2a41dd3fc1c1",
   "metadata": {},
   "source": [
    "---"
   ]
  },
  {
   "cell_type": "markdown",
   "id": "9209c7183dc03961",
   "metadata": {},
   "source": [
    "## 🛠️ Data Preprocessing/Feature Engineering"
   ]
  },
  {
   "cell_type": "code",
   "execution_count": null,
   "id": "c0e8aa98110476e1",
   "metadata": {},
   "outputs": [],
   "source": [
    "# Create a continuous and discrete colormap\n",
    "colors = [\"#3E460F\", \"#4E5813\", \"#626E18\", \"#7A891E\", \"#98AB26\", \"#BED62F\"]\n",
    "NOVAIMS_palette_colors = sns.color_palette(colors[::-1], as_cmap=True)\n",
    "\n",
    "colors = [\"#3E460F\", \"#4E5813\", \"#626E18\", \"#7A891E\", \"#98AB26\", \"#BED62F\", \"#FFFFFF\"]\n",
    "NOVAIMS_palette_colors_continuous = LinearSegmentedColormap.from_list(\"NOVAIMS_palette\", colors[::-1])"
   ]
  },
  {
   "cell_type": "code",
   "execution_count": null,
   "id": "1ab8fbd1284fc114",
   "metadata": {},
   "outputs": [],
   "source": [
    "# Define metric and non-metric features\n",
    "metric_cols = ABCDEats.select_dtypes(include=['int64', 'float64']).columns\n",
    "non_metric_cols = ABCDEats[:1].select_dtypes(include=['object']).columns\n",
    "\n",
    "# Exclude the column 'customer_id' from the Non-Metric columns\n",
    "non_metric_cols = non_metric_cols.drop('customer_id')\n",
    "\n",
    "print(f'Metric columns: {len(metric_cols)}, {metric_cols} \\n')\n",
    "print(f'Non-Metric columns: {len(non_metric_cols)}, {non_metric_cols}')"
   ]
  },
  {
   "cell_type": "code",
   "execution_count": null,
   "id": "71f283fc5729f1b",
   "metadata": {},
   "outputs": [],
   "source": [
    "# Unique values of the columns 'CUI_American', 'CUI_Asian', 'CUI_Chinese', 'CUI_Italian', etc.\n",
    "cuisines_cols = [col for col in ABCDEats.columns if 'CUI_' in col]\n",
    "cuisines_cols"
   ]
  },
  {
   "cell_type": "code",
   "execution_count": null,
   "id": "a313cb9d902add83",
   "metadata": {},
   "outputs": [],
   "source": [
    "# Weeekdays columns\n",
    "weekdays_cols = ABCDEats.loc[:, 'DOW_0':'DOW_6'].columns\n",
    "\n",
    "# Hours columns\n",
    "hours_cols = ABCDEats.loc[:, 'H_0':'H_23'].columns"
   ]
  },
  {
   "cell_type": "code",
   "execution_count": null,
   "id": "8906caad38d5d4ce",
   "metadata": {},
   "outputs": [],
   "source": [
    "# List of weekdays (0 = Sunday, 6 = Saturday)\n",
    "weekdays = ['Sunday', 'Monday', 'Tuesday', 'Wednesday', 'Thursday', 'Friday', 'Saturday']\n",
    "weekdays_dict = dict(enumerate(weekdays))\n",
    "weekdays_dict"
   ]
  },
  {
   "cell_type": "markdown",
   "id": "7463e250f05c8344",
   "metadata": {},
   "source": [
    "---"
   ]
  },
  {
   "cell_type": "code",
   "execution_count": null,
   "id": "74321466",
   "metadata": {},
   "outputs": [],
   "source": [
    "# # Define function for outlier detection, based on IQR method\n",
    "# def detect_outliers(df,features, dfoutput=False, info=True):\n",
    "#     \"\"\"\n",
    "#     This function detects outliers based on the IQR method.\n",
    "    \n",
    "#     :param df: DataFrame\n",
    "#     :param features: List of features to detect outliers\n",
    "#     :param dfoutput: Boolean to return only the DataFrame with the outliers (without printing the information)\n",
    "#     :param info: Boolean to print the information about the outliers\n",
    "#     :return: DataFrame with the outliers\n",
    "#     \"\"\"\n",
    "    \n",
    "#     # Check if features is a list\n",
    "#     if not isinstance(features, list):\n",
    "#         features = [features]\n",
    "    \n",
    "#     if len(features) == 0:\n",
    "#         return []\n",
    "    \n",
    "#     # Detect outliers in 1 features\n",
    "#     elif len(features) == 1:\n",
    "#         for feature in features:\n",
    "#             Q1 = df[feature].quantile(0.25)       # 1st quartile\n",
    "#             Q3 = df[feature].quantile(0.75)       # 3rd quartile\n",
    "#             IQR = Q3 - Q1                         # InterQuartile Range\n",
    "#             lower_bound = Q1 - 1.5 * IQR\n",
    "#             upper_bound = Q3 + 1.5 * IQR\n",
    "            \n",
    "#             outliers = df[(df[feature] < lower_bound) | (df[feature] > upper_bound)]\n",
    "           \n",
    "#             # Print the information about the outliers\n",
    "#             if info:\n",
    "#                 print('\\033[1m', feature, '\\033[0m',\n",
    "#                       '\\n  1st Quartile:', Q1, '  | 3rd Quartile:', Q3, '  | IQR:', IQR,\n",
    "#                       '\\n  Lower Bound:', lower_bound, '  | Upper Bound:', upper_bound,\n",
    "#                       '\\n\\n  Number of outliers:', len(outliers), '(', round(len(outliers)/len(df)*100, 2), '%)',\n",
    "#                       '\\n    Min:', outliers[feature].min(), '  | Max:', outliers[feature].max(), '\\n')\n",
    "                \n",
    "#             # Return DataFrame with the outliers \n",
    "#             if dfoutput:\n",
    "#                 return outliers\n",
    "    \n",
    "#     # Detect outliers in multiple features\n",
    "#     elif len(features) > 1:\n",
    "#         outlier_indices = []\n",
    "#         for c in features:\n",
    "#             # 1st quartile\n",
    "#             Q1 = df[c].quantile(0.25)\n",
    "#             # 3rd quartile\n",
    "#             Q3 = df[c].quantile(0.75)\n",
    "#             # IQR\n",
    "#             IQR = Q3 - Q1\n",
    "#             # Outlier step\n",
    "#             outlier_step = IQR * 1.5\n",
    "#             # detect outlier and their indeces\n",
    "#             outlier_list_col = df[(df[c] < Q1 - outlier_step) | (df[c] > Q3 + outlier_step)].index\n",
    "#             # store indeces\n",
    "#             outlier_indices.extend(outlier_list_col)\n",
    "            \n",
    "#         outlier_indices = Counter(outlier_indices)\n",
    "#         multiple_outliers = list(i for i, v in outlier_indices.items() if v > 2)\n",
    "#         return multiple_outliers"
   ]
  },
  {
   "cell_type": "code",
   "execution_count": null,
   "id": "142f6f39cf22a8a9",
   "metadata": {},
   "outputs": [],
   "source": []
  },
  {
   "cell_type": "markdown",
   "id": "7ab40ee8723b0e94",
   "metadata": {},
   "source": [
    "---"
   ]
  },
  {
   "cell_type": "markdown",
   "id": "8090b763fb2a5202",
   "metadata": {},
   "source": [
    "### **PCA (Principal Component Analysis)**"
   ]
  },
  {
   "cell_type": "code",
   "execution_count": null,
   "id": "82c1941ab25545bc",
   "metadata": {
    "ExecuteTime": {
     "end_time": "2024-10-18T14:26:20.049221Z",
     "start_time": "2024-10-18T14:26:20.046145Z"
    }
   },
   "outputs": [],
   "source": []
  },
  {
   "cell_type": "code",
   "execution_count": null,
   "id": "17b45abf987f3cdb",
   "metadata": {
    "ExecuteTime": {
     "end_time": "2024-10-18T14:26:20.189388Z",
     "start_time": "2024-10-18T14:26:20.186427Z"
    }
   },
   "outputs": [],
   "source": []
  },
  {
   "cell_type": "markdown",
   "id": "d209c59b3edd8b9f",
   "metadata": {},
   "source": [
    "---"
   ]
  },
  {
   "cell_type": "markdown",
   "id": "44ffe7102fe4b31",
   "metadata": {},
   "source": [
    "## ⚫🟢⚪ Clustering"
   ]
  },
  {
   "cell_type": "code",
   "execution_count": null,
   "id": "f7ed825a8c4ebb64",
   "metadata": {},
   "outputs": [],
   "source": []
  },
  {
   "cell_type": "markdown",
   "id": "83ebb3f32f74de69",
   "metadata": {},
   "source": [
    "#### **Hierarchical Clustering Algorithm[<sup>[1]</sup>](https://scikit-learn.org/stable/modules/generated/sklearn.cluster.AgglomerativeClustering.html)**"
   ]
  },
  {
   "cell_type": "code",
   "execution_count": null,
   "id": "b68358b5de1513a9",
   "metadata": {
    "ExecuteTime": {
     "end_time": "2024-10-16T12:58:18.611178Z",
     "start_time": "2024-10-16T12:58:18.607457Z"
    }
   },
   "outputs": [],
   "source": []
  },
  {
   "cell_type": "code",
   "execution_count": null,
   "id": "6eebb11456f30ae5",
   "metadata": {
    "ExecuteTime": {
     "end_time": "2024-10-16T12:58:18.840513Z",
     "start_time": "2024-10-16T12:58:18.836614Z"
    }
   },
   "outputs": [],
   "source": []
  },
  {
   "cell_type": "markdown",
   "id": "906cd2a08ca8a341",
   "metadata": {},
   "source": [
    "---"
   ]
  },
  {
   "cell_type": "markdown",
   "id": "d2eba0dd0ef4a73a",
   "metadata": {},
   "source": [
    "#### **K-Means Clustering Algorithm[<sup>[2]</sup>](https://scikit-learn.org/stable/modules/generated/sklearn.cluster.KMeans.html)**"
   ]
  },
  {
   "cell_type": "code",
   "execution_count": null,
   "id": "2cbedfe3e610d4da",
   "metadata": {
    "ExecuteTime": {
     "end_time": "2024-10-16T12:55:56.164991Z",
     "start_time": "2024-10-16T12:55:56.160538Z"
    }
   },
   "outputs": [],
   "source": []
  },
  {
   "cell_type": "code",
   "execution_count": null,
   "id": "33d76e926f7e3043",
   "metadata": {
    "ExecuteTime": {
     "end_time": "2024-10-16T12:55:56.822683Z",
     "start_time": "2024-10-16T12:55:56.818609Z"
    }
   },
   "outputs": [],
   "source": []
  },
  {
   "cell_type": "markdown",
   "id": "14f9e655dba4ba26",
   "metadata": {},
   "source": [
    "---"
   ]
  },
  {
   "cell_type": "markdown",
   "id": "1fa01ceb3e92303d",
   "metadata": {},
   "source": [
    "#### **Self Organizing Maps (SOM)**[<sup>[5]</sup>](https://github.com/sevamoo/sompy)"
   ]
  },
  {
   "cell_type": "code",
   "execution_count": null,
   "id": "9b0a8e0ded9f4cd5",
   "metadata": {
    "ExecuteTime": {
     "end_time": "2024-10-16T13:01:57.064613Z",
     "start_time": "2024-10-16T13:01:57.060165Z"
    }
   },
   "outputs": [],
   "source": []
  },
  {
   "cell_type": "code",
   "execution_count": null,
   "id": "d3e1103da44579dd",
   "metadata": {
    "ExecuteTime": {
     "end_time": "2024-10-16T13:01:57.243228Z",
     "start_time": "2024-10-16T13:01:57.238499Z"
    }
   },
   "outputs": [],
   "source": []
  },
  {
   "cell_type": "markdown",
   "id": "47b5ea426d26339a",
   "metadata": {},
   "source": [
    "---"
   ]
  },
  {
   "cell_type": "markdown",
   "id": "3b751a08eea139f7",
   "metadata": {},
   "source": [
    "#### **Self Organizing Maps (MiniSOM)**[<sup>[6]</sup>](https://github.com/JustGlowing/minisom)"
   ]
  },
  {
   "cell_type": "code",
   "execution_count": null,
   "id": "23c086172739144e",
   "metadata": {
    "ExecuteTime": {
     "end_time": "2024-10-16T12:56:28.836244Z",
     "start_time": "2024-10-16T12:56:28.832859Z"
    }
   },
   "outputs": [],
   "source": []
  },
  {
   "cell_type": "code",
   "execution_count": null,
   "id": "d56ec06b99b5be06",
   "metadata": {
    "ExecuteTime": {
     "end_time": "2024-10-16T12:56:29.329737Z",
     "start_time": "2024-10-16T12:56:29.327125Z"
    }
   },
   "outputs": [],
   "source": []
  },
  {
   "cell_type": "markdown",
   "id": "59b28d785b25d59b",
   "metadata": {},
   "source": [
    "---"
   ]
  },
  {
   "cell_type": "markdown",
   "id": "40e7c8782a4d46a5",
   "metadata": {},
   "source": [
    "#### **Density Based Clustering [Mean Shift[<sup>[7]</sup>](https://scikit-learn.org/stable/modules/generated/sklearn.cluster.MeanShift.html), DBSCAN [<sup>[8]</sup>](https://scikit-learn.org/stable/modules/generated/sklearn.cluster.DBSCAN.html), GMM[<sup>[9]</sup>](https://scikit-learn.org/stable/modules/generated/sklearn.mixture.GaussianMixture.html)]**"
   ]
  },
  {
   "cell_type": "code",
   "execution_count": null,
   "id": "7e3b43840d5cf5a6",
   "metadata": {},
   "outputs": [],
   "source": []
  },
  {
   "cell_type": "code",
   "execution_count": null,
   "id": "2a9cfbc73c2c99cd",
   "metadata": {
    "ExecuteTime": {
     "end_time": "2024-10-16T12:55:57.229380Z",
     "start_time": "2024-10-16T12:55:57.224960Z"
    }
   },
   "outputs": [],
   "source": []
  },
  {
   "cell_type": "code",
   "execution_count": null,
   "id": "bfe7ef1f7668bfc0",
   "metadata": {},
   "outputs": [],
   "source": []
  },
  {
   "cell_type": "markdown",
   "id": "303890b57115f0b0",
   "metadata": {},
   "source": [
    "---"
   ]
  },
  {
   "cell_type": "markdown",
   "id": "7091e99c796ad977",
   "metadata": {},
   "source": [
    "## 📏 Clustering Evaluation/Analysis"
   ]
  },
  {
   "cell_type": "code",
   "execution_count": null,
   "id": "b6e6ee2c951a443",
   "metadata": {
    "ExecuteTime": {
     "end_time": "2024-10-16T13:07:55.978936Z",
     "start_time": "2024-10-16T13:07:55.975490Z"
    }
   },
   "outputs": [],
   "source": []
  },
  {
   "cell_type": "code",
   "execution_count": null,
   "id": "df08b219dd22a926",
   "metadata": {},
   "outputs": [],
   "source": []
  },
  {
   "cell_type": "markdown",
   "id": "d6261242adc216fc",
   "metadata": {},
   "source": [
    "---"
   ]
  },
  {
   "cell_type": "markdown",
   "id": "622ee49654b791e2",
   "metadata": {},
   "source": [
    "# 💾 Save Data \n",
    "\n",
    "<br>\n",
    "\n",
    "- To finish this notebook and proceed to Streamlit App, we will save the preprocessed dataset and the clustering results."
   ]
  },
  {
   "cell_type": "code",
   "execution_count": null,
   "id": "b28f518dc8015233",
   "metadata": {},
   "outputs": [],
   "source": [
    "# Save the preprocessed dataset\n",
    "#ABCDEats.to_parquet('data/DM2425_ABCDEats_2ndPart.parquet')\n",
    "\n",
    "# Save the clustering results\n",
    "#cluster_results.to_parquet('data/DM2425_ABCDEats_ClusteringResults.parquet')"
   ]
  }
 ],
 "metadata": {
  "kernelspec": {
   "display_name": "Python 3 (ipykernel)",
   "language": "python",
   "name": "python3"
  },
  "language_info": {
   "codemirror_mode": {
    "name": "ipython",
    "version": 3
   },
   "file_extension": ".py",
   "mimetype": "text/x-python",
   "name": "python",
   "nbconvert_exporter": "python",
   "pygments_lexer": "ipython3",
   "version": "3.12.4"
  }
 },
 "nbformat": 4,
 "nbformat_minor": 5
}
