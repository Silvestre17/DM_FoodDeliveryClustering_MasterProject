{
 "cells": [
  {
   "metadata": {},
   "cell_type": "markdown",
   "source": [
    "<div style=\"display: flex; align-items: center; justify-content: center; flex-wrap: wrap;\">\n",
    "    <div style=\"flex: 1; min-width: 250px; display: flex; justify-content: center;\">\n",
    "        <img src=\"https://adnova.novaims.unl.pt/media/22ui3ptm/logo.svg\" style=\"max-width: 80%; height: auto; margin-top: 50px; margin-bottom: 50px;margin-left: 3rem;\">\n",
    "    </div>\n",
    "    <div style=\"flex: 2; text-align: center; margin-top: 20px;margin-left: 8rem;\">\n",
    "        <div style=\"font-size: 28px; font-weight: bold; line-height: 1.2;color:#6f800f;\">\n",
    "            Data Mining Project | ABCDEats Inc.\n",
    "        </div>\n",
    "        <div style=\"font-size: 17px; font-weight: bold; margin-top: 10px;\">\n",
    "            Fall Semester | 2024 - 2025\n",
    "        </div>\n",
    "        <div style=\"font-size: 17px; font-weight: bold;\">\n",
    "            Master in Data Science and Advanced Analytics\n",
    "        </div>\n",
    "        <div style=\"margin-top: 20px;\">\n",
    "            <div>André Silvestre, 20240502</div>\n",
    "            <div>Filipa Pereira, 20240509</div>\n",
    "            <div>Umeima Mahomed, 20240543</div>\n",
    "        </div>\n",
    "        <div style=\"margin-top: 20px; font-weight: bold;\">\n",
    "            Group 37\n",
    "        </div>\n",
    "    </div>\n",
    "</div>"
   ],
   "id": "cdec7ce0f5dffaf1"
  },
  {
   "metadata": {},
   "cell_type": "markdown",
   "source": [
    "<div style=\"background: linear-gradient(to right,#6f800f, #6f800f); \n",
    "            padding: .7px; color: white; border-radius: 300px; text-align: center;\">\n",
    "</div>"
   ],
   "id": "b748580141948940"
  },
  {
   "metadata": {},
   "cell_type": "markdown",
   "source": "## 📚 Libraries Import",
   "id": "3c0fbc23dd806177"
  },
  {
   "metadata": {
    "deletable": true,
    "editable": true,
    "frozen": false
   },
   "cell_type": "code",
   "source": [
    "# For data\n",
    "import pandas as pd\n",
    "import numpy as np\n",
    "import os\n",
    "\n",
    "# For plotting and EDA\n",
    "import matplotlib.pyplot as plt\n",
    "import seaborn as sns\n",
    "import matplotlib.ticker as mtick\n",
    "import matplotlib.lines as mlines\n",
    "from matplotlib.colors import LinearSegmentedColormap\n",
    "\n",
    "# For preprocessing\n",
    "\n",
    "# For statistical tests\n",
    "\n",
    "# For clustering\n",
    "\n",
    "# Set the style of the visualization\n",
    "pd.set_option('display.max_columns', None)                  # display all columns\n",
    "pd.set_option('display.float_format', lambda x: '%.2f' % x) # display floats with 2 decimal places\n",
    "\n",
    "# for better resolution plots\n",
    "%config InlineBackend.figure_format = 'retina' # optionally, you can change 'svg' to 'retina'\n",
    "\n",
    "# Setting seaborn style\n",
    "plt.style.use('ggplot')\n",
    "sns.set_theme(style='white')"
   ],
   "id": "dab144c37194e16a",
   "outputs": [],
   "execution_count": null
  },
  {
   "metadata": {},
   "cell_type": "markdown",
   "source": [
    "# <a class='anchor' id='2'></a>\n",
    "<br>\n",
    "<style>\n",
    "@import url('https://fonts.cdnfonts.com/css/avenir-next-lt-pro?styles=29974');\n",
    "</style>\n",
    "\n",
    "<div style=\"background: linear-gradient(to right,#bEd62f, #6f800f); \n",
    "            padding: 10px; color: white; border-radius: 300px; text-align: center;\">\n",
    "    <center><h1 style=\"margin-left: 140px;margin-top: 10px; margin-bottom: 4px; color: white;\n",
    "                       font-size: 32px; font-family: 'Avenir Next LT Pro', sans-serif;\">\n",
    "        <b>Part 2 | Data Preprocess & Clustering </b></h1></center>\n",
    "</div>"
   ],
   "id": "cd67dd012d4d60ec"
  },
  {
   "metadata": {
    "deletable": true,
    "editable": true,
    "frozen": false
   },
   "cell_type": "code",
   "source": [
    "# Importing the dataset\n",
    "ABCDEats = pd.read_parquet('data/DM2425_ABCDEats_1stPart.parquet')"
   ],
   "id": "5989e709c7705bb5",
   "outputs": [],
   "execution_count": null
  },
  {
   "metadata": {
    "deletable": true,
    "editable": true,
    "frozen": false
   },
   "cell_type": "code",
   "source": [
    "# Display the first 5 rows just to confirm the import was successful\n",
    "ABCDEats.head() "
   ],
   "id": "9ad54d8e912bc2ec",
   "outputs": [],
   "execution_count": null
  },
  {
   "metadata": {
    "deletable": true,
    "editable": true,
    "frozen": false
   },
   "cell_type": "code",
   "source": [
    "# Number of rows and columns\n",
    "print('Number of\\033[1m rows \\033[0m:', ABCDEats.shape[0])\n",
    "print('Number of\\033[1m columns \\033[0m:', ABCDEats.shape[1])"
   ],
   "id": "498a9ffbcf0faefd",
   "outputs": [],
   "execution_count": null
  },
  {
   "metadata": {},
   "cell_type": "code",
   "source": [
    "# Check the data types\n",
    "ABCDEats.dtypes"
   ],
   "id": "b408c184a9e1a8ea",
   "outputs": [],
   "execution_count": null
  },
  {
   "metadata": {},
   "cell_type": "markdown",
   "source": "---",
   "id": "b9dc2a41dd3fc1c1"
  },
  {
   "metadata": {},
   "cell_type": "markdown",
   "source": "## 🛠️ Data Preprocessing/Feature Engineering",
   "id": "9209c7183dc03961"
  },
  {
   "metadata": {},
   "cell_type": "code",
   "outputs": [],
   "execution_count": null,
   "source": [
    "# Create a continuous and discrete colormap\n",
    "colors = [\"#3E460F\", \"#4E5813\", \"#626E18\", \"#7A891E\", \"#98AB26\", \"#BED62F\"]\n",
    "NOVAIMS_palette_colors = sns.color_palette(colors[::-1], as_cmap=True)\n",
    "\n",
    "colors = [\"#3E460F\", \"#4E5813\", \"#626E18\", \"#7A891E\", \"#98AB26\", \"#BED62F\", \"#FFFFFF\"]\n",
    "NOVAIMS_palette_colors_continuous = LinearSegmentedColormap.from_list(\"NOVAIMS_palette\", colors[::-1])"
   ],
   "id": "c0e8aa98110476e1"
  },
  {
   "metadata": {},
   "cell_type": "code",
   "source": [
    "# Define metric and non-metric features\n",
    "metric_cols = ABCDEats.select_dtypes(include=['int64', 'float64']).columns\n",
    "non_metric_cols = ABCDEats[:1].select_dtypes(include=['object']).columns\n",
    "\n",
    "# Exclude the column 'customer_id' from the Non-Metric columns\n",
    "non_metric_cols = non_metric_cols.drop('customer_id')\n",
    "\n",
    "print(f'Metric columns: {len(metric_cols)}, {metric_cols} \\n')\n",
    "print(f'Non-Metric columns: {len(non_metric_cols)}, {non_metric_cols}')"
   ],
   "id": "1ab8fbd1284fc114",
   "outputs": [],
   "execution_count": null
  },
  {
   "metadata": {},
   "cell_type": "code",
   "source": [
    "# Unique values of the columns 'CUI_American', 'CUI_Asian', 'CUI_Chinese', 'CUI_Italian', etc.\n",
    "cuisines_cols = [col for col in ABCDEats.columns if 'CUI_' in col]\n",
    "cuisines_cols"
   ],
   "id": "71f283fc5729f1b",
   "outputs": [],
   "execution_count": null
  },
  {
   "metadata": {},
   "cell_type": "code",
   "outputs": [],
   "execution_count": null,
   "source": [
    "# Weeekdays columns\n",
    "weekdays_cols = ABCDEats.loc[:, 'DOW_0':'DOW_6'].columns\n",
    "\n",
    "# Hours columns\n",
    "hours_cols = ABCDEats.loc[:, 'H_0':'H_23'].columns"
   ],
   "id": "a313cb9d902add83"
  },
  {
   "metadata": {},
   "cell_type": "code",
   "source": [
    "# List of weekdays (0 = Sunday, 6 = Saturday)\n",
    "weekdays = ['Sunday', 'Monday', 'Tuesday', 'Wednesday', 'Thursday', 'Friday', 'Saturday']\n",
    "weekdays_dict = dict(enumerate(weekdays))\n",
    "weekdays_dict"
   ],
   "id": "8906caad38d5d4ce",
   "outputs": [],
   "execution_count": null
  },
  {
   "metadata": {},
   "cell_type": "code",
   "source": "",
   "id": "7463e250f05c8344",
   "outputs": [],
   "execution_count": null
  },
  {
   "metadata": {},
   "cell_type": "code",
   "source": "",
   "id": "142f6f39cf22a8a9",
   "outputs": [],
   "execution_count": null
  },
  {
   "metadata": {},
   "cell_type": "markdown",
   "source": "---",
   "id": "7ab40ee8723b0e94"
  },
  {
   "metadata": {},
   "cell_type": "markdown",
   "source": "### **PCA (Principal Component Analysis)**",
   "id": "8090b763fb2a5202"
  },
  {
   "metadata": {
    "ExecuteTime": {
     "end_time": "2024-10-18T14:26:20.049221Z",
     "start_time": "2024-10-18T14:26:20.046145Z"
    }
   },
   "cell_type": "code",
   "source": "",
   "id": "82c1941ab25545bc",
   "outputs": [],
   "execution_count": null
  },
  {
   "metadata": {
    "ExecuteTime": {
     "end_time": "2024-10-18T14:26:20.189388Z",
     "start_time": "2024-10-18T14:26:20.186427Z"
    }
   },
   "cell_type": "code",
   "source": "",
   "id": "17b45abf987f3cdb",
   "outputs": [],
   "execution_count": null
  },
  {
   "metadata": {},
   "cell_type": "markdown",
   "source": "---",
   "id": "d209c59b3edd8b9f"
  },
  {
   "metadata": {},
   "cell_type": "markdown",
   "source": "## ⚫🟢⚪ Clustering",
   "id": "44ffe7102fe4b31"
  },
  {
   "metadata": {},
   "cell_type": "code",
   "source": "",
   "id": "f7ed825a8c4ebb64",
   "outputs": [],
   "execution_count": null
  },
  {
   "metadata": {},
   "cell_type": "markdown",
   "source": "#### **Hierarchical Clustering Algorithm[<sup>[1]</sup>](https://scikit-learn.org/stable/modules/generated/sklearn.cluster.AgglomerativeClustering.html)**",
   "id": "83ebb3f32f74de69"
  },
  {
   "metadata": {
    "ExecuteTime": {
     "end_time": "2024-10-16T12:58:18.611178Z",
     "start_time": "2024-10-16T12:58:18.607457Z"
    }
   },
   "cell_type": "code",
   "source": "",
   "id": "b68358b5de1513a9",
   "outputs": [],
   "execution_count": null
  },
  {
   "metadata": {
    "ExecuteTime": {
     "end_time": "2024-10-16T12:58:18.840513Z",
     "start_time": "2024-10-16T12:58:18.836614Z"
    }
   },
   "cell_type": "code",
   "source": "",
   "id": "6eebb11456f30ae5",
   "outputs": [],
   "execution_count": null
  },
  {
   "metadata": {},
   "cell_type": "markdown",
   "source": "---",
   "id": "906cd2a08ca8a341"
  },
  {
   "metadata": {},
   "cell_type": "markdown",
   "source": "#### **K-Means Clustering Algorithm[<sup>[2]</sup>](https://scikit-learn.org/stable/modules/generated/sklearn.cluster.KMeans.html)**",
   "id": "d2eba0dd0ef4a73a"
  },
  {
   "metadata": {
    "ExecuteTime": {
     "end_time": "2024-10-16T12:55:56.164991Z",
     "start_time": "2024-10-16T12:55:56.160538Z"
    }
   },
   "cell_type": "code",
   "source": "",
   "id": "2cbedfe3e610d4da",
   "outputs": [],
   "execution_count": null
  },
  {
   "metadata": {
    "ExecuteTime": {
     "end_time": "2024-10-16T12:55:56.822683Z",
     "start_time": "2024-10-16T12:55:56.818609Z"
    }
   },
   "cell_type": "code",
   "source": "",
   "id": "33d76e926f7e3043",
   "outputs": [],
   "execution_count": null
  },
  {
   "metadata": {},
   "cell_type": "markdown",
   "source": "---",
   "id": "14f9e655dba4ba26"
  },
  {
   "metadata": {},
   "cell_type": "markdown",
   "source": "#### **Self Organizing Maps (SOM)**[<sup>[5]</sup>](https://github.com/sevamoo/sompy)",
   "id": "1fa01ceb3e92303d"
  },
  {
   "metadata": {
    "ExecuteTime": {
     "end_time": "2024-10-16T13:01:57.064613Z",
     "start_time": "2024-10-16T13:01:57.060165Z"
    }
   },
   "cell_type": "code",
   "source": "",
   "id": "9b0a8e0ded9f4cd5",
   "outputs": [],
   "execution_count": null
  },
  {
   "metadata": {
    "ExecuteTime": {
     "end_time": "2024-10-16T13:01:57.243228Z",
     "start_time": "2024-10-16T13:01:57.238499Z"
    }
   },
   "cell_type": "code",
   "source": "",
   "id": "d3e1103da44579dd",
   "outputs": [],
   "execution_count": null
  },
  {
   "metadata": {},
   "cell_type": "markdown",
   "source": "---",
   "id": "47b5ea426d26339a"
  },
  {
   "metadata": {},
   "cell_type": "markdown",
   "source": "#### **Self Organizing Maps (MiniSOM)**[<sup>[6]</sup>](https://github.com/JustGlowing/minisom)",
   "id": "3b751a08eea139f7"
  },
  {
   "metadata": {
    "ExecuteTime": {
     "end_time": "2024-10-16T12:56:28.836244Z",
     "start_time": "2024-10-16T12:56:28.832859Z"
    }
   },
   "cell_type": "code",
   "source": "",
   "id": "23c086172739144e",
   "outputs": [],
   "execution_count": null
  },
  {
   "metadata": {
    "ExecuteTime": {
     "end_time": "2024-10-16T12:56:29.329737Z",
     "start_time": "2024-10-16T12:56:29.327125Z"
    }
   },
   "cell_type": "code",
   "source": "",
   "id": "d56ec06b99b5be06",
   "outputs": [],
   "execution_count": null
  },
  {
   "metadata": {},
   "cell_type": "markdown",
   "source": "---",
   "id": "59b28d785b25d59b"
  },
  {
   "metadata": {},
   "cell_type": "markdown",
   "source": "#### **Density Based Clustering [Mean Shift[<sup>[7]</sup>](https://scikit-learn.org/stable/modules/generated/sklearn.cluster.MeanShift.html), DBSCAN [<sup>[8]</sup>](https://scikit-learn.org/stable/modules/generated/sklearn.cluster.DBSCAN.html), GMM[<sup>[9]</sup>](https://scikit-learn.org/stable/modules/generated/sklearn.mixture.GaussianMixture.html)]**",
   "id": "40e7c8782a4d46a5"
  },
  {
   "metadata": {},
   "cell_type": "code",
   "outputs": [],
   "execution_count": null,
   "source": "",
   "id": "7e3b43840d5cf5a6"
  },
  {
   "metadata": {
    "ExecuteTime": {
     "end_time": "2024-10-16T12:55:57.229380Z",
     "start_time": "2024-10-16T12:55:57.224960Z"
    }
   },
   "cell_type": "code",
   "source": "",
   "id": "2a9cfbc73c2c99cd",
   "outputs": [],
   "execution_count": null
  },
  {
   "metadata": {},
   "cell_type": "code",
   "outputs": [],
   "execution_count": null,
   "source": "",
   "id": "bfe7ef1f7668bfc0"
  },
  {
   "metadata": {},
   "cell_type": "markdown",
   "source": "---",
   "id": "303890b57115f0b0"
  },
  {
   "metadata": {},
   "cell_type": "markdown",
   "source": "## 📏 Clustering Evaluation/Analysis",
   "id": "7091e99c796ad977"
  },
  {
   "metadata": {
    "ExecuteTime": {
     "end_time": "2024-10-16T13:07:55.978936Z",
     "start_time": "2024-10-16T13:07:55.975490Z"
    }
   },
   "cell_type": "code",
   "source": "",
   "id": "b6e6ee2c951a443",
   "outputs": [],
   "execution_count": null
  },
  {
   "metadata": {},
   "cell_type": "code",
   "outputs": [],
   "execution_count": null,
   "source": "",
   "id": "df08b219dd22a926"
  },
  {
   "metadata": {},
   "cell_type": "markdown",
   "source": "---",
   "id": "d6261242adc216fc"
  },
  {
   "metadata": {},
   "cell_type": "markdown",
   "source": [
    "# 💾 Save Data \n",
    "\n",
    "<br>\n",
    "\n",
    "- To finish this notebook and proceed to Streamlit App, we will save the preprocessed dataset and the clustering results."
   ],
   "id": "622ee49654b791e2"
  },
  {
   "metadata": {},
   "cell_type": "code",
   "outputs": [],
   "execution_count": null,
   "source": [
    "# Save the preprocessed dataset\n",
    "#ABCDEats.to_parquet('data/DM2425_ABCDEats_2ndPart.parquet')\n",
    "\n",
    "# Save the clustering results\n",
    "#cluster_results.to_parquet('data/DM2425_ABCDEats_ClusteringResults.parquet')"
   ],
   "id": "b28f518dc8015233"
  }
 ],
 "metadata": {
  "kernelspec": {
   "display_name": "Python 3",
   "language": "python",
   "name": "python3"
  },
  "language_info": {
   "codemirror_mode": {
    "name": "ipython",
    "version": 2
   },
   "file_extension": ".py",
   "mimetype": "text/x-python",
   "name": "python",
   "nbconvert_exporter": "python",
   "pygments_lexer": "ipython2",
   "version": "2.7.6"
  }
 },
 "nbformat": 4,
 "nbformat_minor": 5
}
