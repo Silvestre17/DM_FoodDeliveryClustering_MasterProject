{
 "cells": [
  {
   "cell_type": "markdown",
   "id": "16f9f99e",
   "metadata": {},
   "source": [
    "<img src=\"https://encrypted-tbn0.gstatic.com/images?q=tbn:ANd9GcTaJWG7PzF3toxaRMB1-JicpqMgJuEXATd0fg&\" style=\"width: 180px;margin-top:50px;margin-bottom:50px;\" align=\"left\">\n",
    "   <div style= \"font-size: 28px;font-weight:bold;margin-top:20px;margin-bottom:20px;margin-left:360px;margin-right:140px; line-height: 1.1;color:#6f800f;\"><center>Data Mining Project | ABCDEats Inc.</center></div>\n",
    "   <div style= \"font-size: 17px;font-weight:bold;\"><center>2024 - 2025</center></div>\n",
    "   <div><center><b>Master in Data Science and Advanced Analytics</b> </center></div>\n",
    " <br>\n",
    "    <div><center>André Silvestre Nº104532 </center></div>\n",
    "    <div><center>Eliane Gabriel Nº103303 <b>|</b> Maria João Lourenço Nº104716 </center></div>\n",
    "    <div><center>Margarida Pereira Nº105877 <b>|</b> Umeima Mahomed Nº99239</center></div>\n",
    "    <br>\n",
    "    <div><center><b>CDC1</b> & <b>CDC2</b></center></div>\n",
    " <br>"
   ]
  },
  {
   "cell_type": "code",
   "execution_count": null,
   "id": "f34ffb92",
   "metadata": {},
   "outputs": [],
   "source": []
  }
 ],
 "metadata": {
  "kernelspec": {
   "display_name": "Python 3 (ipykernel)",
   "language": "python",
   "name": "python3"
  },
  "language_info": {
   "codemirror_mode": {
    "name": "ipython",
    "version": 3
   },
   "file_extension": ".py",
   "mimetype": "text/x-python",
   "name": "python",
   "nbconvert_exporter": "python",
   "pygments_lexer": "ipython3",
   "version": "3.11.9"
  }
 },
 "nbformat": 4,
 "nbformat_minor": 5
}
